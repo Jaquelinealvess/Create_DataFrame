{
 "cells": [
  {
   "cell_type": "code",
   "execution_count": 1,
   "id": "ef7d711a",
   "metadata": {},
   "outputs": [
    {
     "name": "stdout",
     "output_type": "stream",
     "text": [
      "Defaulting to user installation because normal site-packages is not writeable\n",
      "Requirement already satisfied: pandas in c:\\programdata\\anaconda3 (1.4.1)\n",
      "Requirement already satisfied: numpy>=1.18.5 in c:\\programdata\\anaconda3 (from pandas) (1.22.2)\n",
      "Requirement already satisfied: python-dateutil>=2.8.1 in c:\\programdata\\anaconda3 (from pandas) (2.8.2)\n",
      "Requirement already satisfied: pytz>=2020.1 in c:\\programdata\\anaconda3 (from pandas) (2021.3)\n",
      "Requirement already satisfied: six>=1.5 in c:\\programdata\\anaconda3 (from python-dateutil>=2.8.1->pandas) (1.16.0)\n",
      "Note: you may need to restart the kernel to use updated packages.\n"
     ]
    }
   ],
   "source": [
    "pip install pandas"
   ]
  },
  {
   "cell_type": "code",
   "execution_count": 2,
   "id": "f66c66ef",
   "metadata": {},
   "outputs": [
    {
     "name": "stdout",
     "output_type": "stream",
     "text": [
      "Defaulting to user installation because normal site-packages is not writeable\n",
      "Requirement already satisfied: numpy in c:\\programdata\\anaconda3 (1.22.2)\n",
      "Note: you may need to restart the kernel to use updated packages.\n"
     ]
    }
   ],
   "source": [
    "pip install numpy"
   ]
  },
  {
   "cell_type": "code",
   "execution_count": 4,
   "id": "b7dfe2e3",
   "metadata": {},
   "outputs": [
    {
     "name": "stdout",
     "output_type": "stream",
     "text": [
      "DatetimeIndex(['2022-12-01', '2022-12-02', '2022-12-03', '2022-12-04',\n",
      "               '2022-12-05', '2022-12-06', '2022-12-07', '2022-12-08',\n",
      "               '2022-12-09', '2022-12-10', '2022-12-11', '2022-12-12',\n",
      "               '2022-12-13', '2022-12-14', '2022-12-15', '2022-12-16',\n",
      "               '2022-12-17', '2022-12-18', '2022-12-19', '2022-12-20',\n",
      "               '2022-12-21', '2022-12-22', '2022-12-23', '2022-12-24',\n",
      "               '2022-12-25', '2022-12-26', '2022-12-27', '2022-12-28',\n",
      "               '2022-12-29', '2022-12-30', '2022-12-31'],\n",
      "              dtype='datetime64[ns]', freq='D')\n"
     ]
    }
   ],
   "source": [
    "import pandas as opcoesPandas\n",
    "import numpy as opcoesNumpy\n",
    "\n",
    "# periods = quantos dias\n",
    "# 20221201 = ano/ mes/ dia\n",
    "dataFrame_Datas = opcoesPandas.date_range(\"20221201\", periods=31)\n",
    "\n",
    "print(dataFrame_Datas)"
   ]
  },
  {
   "cell_type": "code",
   "execution_count": 8,
   "id": "318818bd",
   "metadata": {},
   "outputs": [
    {
     "name": "stdout",
     "output_type": "stream",
     "text": [
      "          0\n",
      "0  0.371532\n",
      "1  0.489068\n",
      "2  0.331524\n",
      "3  0.232272\n",
      "4  0.389362\n"
     ]
    }
   ],
   "source": [
    "import pandas as opcoesPandas\n",
    "import numpy as opcoesNumpy\n",
    "\n",
    "# data frame de numeros aleatorios\n",
    "numerosAleatorios = opcoesPandas.DataFrame(opcoesNumpy.random.rand(5,1))\n",
    "\n",
    "print(numerosAleatorios)\n"
   ]
  },
  {
   "cell_type": "code",
   "execution_count": 5,
   "id": "531b2ffe",
   "metadata": {},
   "outputs": [
    {
     "name": "stdout",
     "output_type": "stream",
     "text": [
      "DatetimeIndex(['2022-12-31', '2023-01-31', '2023-02-28', '2023-03-31',\n",
      "               '2023-04-30', '2023-05-31', '2023-06-30', '2023-07-31',\n",
      "               '2023-08-31', '2023-09-30', '2023-10-31', '2023-11-30'],\n",
      "              dtype='datetime64[ns]', freq='M')\n"
     ]
    }
   ],
   "source": [
    "import pandas as opcoesPandas\n",
    "import numpy as opcoesNumpy\n",
    "\n",
    "# periods = quantos dias\n",
    "# 20221201 = ano/ mes/ dia\n",
    "dataFrame_Meses = opcoesPandas.date_range(\"20221201\", periods=12, freq=\"M\")\n",
    "\n",
    "print(dataFrame_Meses)"
   ]
  },
  {
   "cell_type": "code",
   "execution_count": 9,
   "id": "5e1840fe",
   "metadata": {},
   "outputs": [
    {
     "name": "stdout",
     "output_type": "stream",
     "text": [
      "            0          1          2          3          4          5  \\\n",
      "0   86.593670  11.358367  50.280310  84.732128  30.959412  67.849279   \n",
      "1   81.372763  60.725734  95.723776  49.385082  86.795314  11.171353   \n",
      "2   41.671747  91.139730  50.825100  64.093001  59.972757  22.733950   \n",
      "3   59.186898  24.505919  27.315759  64.320914  40.641473  49.000273   \n",
      "4   52.115346  11.312411   4.291237   3.882009   0.798004  44.912898   \n",
      "5   21.196049  46.379667  31.916391  34.224731  29.588543  69.345877   \n",
      "6   75.858065  71.818629   7.995517  60.847808  10.256719  94.468773   \n",
      "7   73.394883  21.645405  77.617799  31.956523  39.652199  87.283089   \n",
      "8   82.712246  97.161347  15.984022  42.951002  29.034294  36.626310   \n",
      "9   72.069403  41.042085  29.448918  64.191609  64.933906  87.993423   \n",
      "10  16.409775   4.004160  19.625163  59.978405  75.089556  26.653082   \n",
      "11  60.345801  32.040479  10.767250  49.328943  79.280337  18.615497   \n",
      "12  57.425055  81.369186  41.599909  26.676642  23.965806  48.769182   \n",
      "13  83.391707  73.054569  90.073362  46.301880  66.895763  89.444104   \n",
      "14  94.961523  51.680855  93.641103  24.251279  28.684551  44.365793   \n",
      "\n",
      "            6          7          8          9  \n",
      "0    3.203459  71.363806  99.441454  16.533373  \n",
      "1    5.572135  40.438033  42.423707  92.001158  \n",
      "2   38.445366  99.682973  22.818546  42.885959  \n",
      "3   43.931095  70.364202  26.020137  35.290205  \n",
      "4   36.049504  28.414141   3.188419  91.353758  \n",
      "5   81.121900   8.803868  35.017288  42.458119  \n",
      "6    4.366852  88.101484  25.971850  14.434584  \n",
      "7   30.850233  62.472416  71.959324  26.901608  \n",
      "8   91.811505   5.596603  79.722599   7.199628  \n",
      "9   71.592588  75.786198  89.708850  13.360154  \n",
      "10  50.998078  45.139781  97.789227  52.710771  \n",
      "11  53.797984  71.945803  39.629668  86.474131  \n",
      "12  78.632473  76.294297  32.404695  52.549914  \n",
      "13  93.471073  88.364389  58.528588   3.460941  \n",
      "14  87.751352   2.519981  33.630073  54.897505  \n"
     ]
    }
   ],
   "source": [
    "import pandas as opcoesPandas\n",
    "import numpy as opcoesNumpy\n",
    "\n",
    "# data frame de numeros aleatorios\n",
    "numeros = opcoesPandas.DataFrame(opcoesNumpy.random.rand(15,10)*100)\n",
    "\n",
    "print(numeros)"
   ]
  },
  {
   "cell_type": "code",
   "execution_count": 10,
   "id": "894c865a",
   "metadata": {},
   "outputs": [
    {
     "name": "stdout",
     "output_type": "stream",
     "text": [
      "    Nome  Média\n",
      "0    Ana      9\n",
      "1  Pedro      7\n",
      "2   João     10\n"
     ]
    }
   ],
   "source": [
    "import pandas as opcoesPandas\n",
    "import numpy as opcoesNumpy\n",
    "\n",
    "\n",
    "notasAlunos_DF = opcoesPandas.DataFrame({\n",
    "    \"Nome\": [\"Ana\", \"Pedro\", \"João\"],\n",
    "    \"Média\": [9,7,10]\n",
    "})\n",
    "print(notasAlunos_DF)"
   ]
  }
 ],
 "metadata": {
  "kernelspec": {
   "display_name": "Python 3 (ipykernel)",
   "language": "python",
   "name": "python3"
  },
  "language_info": {
   "codemirror_mode": {
    "name": "ipython",
    "version": 3
   },
   "file_extension": ".py",
   "mimetype": "text/x-python",
   "name": "python",
   "nbconvert_exporter": "python",
   "pygments_lexer": "ipython3",
   "version": "3.9.12"
  }
 },
 "nbformat": 4,
 "nbformat_minor": 5
}
